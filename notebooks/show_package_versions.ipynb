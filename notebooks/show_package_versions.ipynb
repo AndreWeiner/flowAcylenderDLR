{
 "cells": [
  {
   "cell_type": "code",
   "execution_count": 1,
   "metadata": {},
   "outputs": [
    {
     "name": "stdout",
     "output_type": "stream",
     "text": [
      "Installed package versions:\n",
      "--------------------------\n",
      "Ipython: 7.18.1\n",
      "Matplotlib: 3.1.2\n",
      "Numpy: 1.17.4\n",
      "Pandas: 0.25.3\n",
      "Python: 3.8.2\n",
      "PyTorch: 1.6.0+cpu\n",
      "Scikit Learn: 0.23.2\n",
      "Jupyter-lab: 2.2.8\n"
     ]
    }
   ],
   "source": [
    "import numpy\n",
    "import pandas\n",
    "import matplotlib\n",
    "import torch\n",
    "import sklearn\n",
    "import IPython\n",
    "import subprocess\n",
    "from platform import python_version\n",
    "\n",
    "print(\"Installed package versions:\")\n",
    "print(\"-\"*len(\"Installed package version:\"))\n",
    "print(\"Ipython: {}\".format(IPython.__version__))\n",
    "print(\"Matplotlib: {}\".format(matplotlib.__version__))\n",
    "print(\"Numpy: {}\".format(numpy.__version__))\n",
    "print(\"Pandas: {}\".format(pandas.__version__))\n",
    "print(\"Python: {}\".format(python_version()))\n",
    "print(\"PyTorch: {}\".format(torch.__version__))\n",
    "print(\"Scikit Learn: {}\".format(sklearn.__version__))\n",
    "jupyter_version = str(subprocess.run(['jupyter-lab', '--version'], stdout=subprocess.PIPE).stdout)\n",
    "print(\"Jupyter-lab: {}\".format(jupyter_version.replace(\"b'\", \"\").replace(\"\\\\n'\", \"\")))"
   ]
  },
  {
   "cell_type": "code",
   "execution_count": 3,
   "metadata": {},
   "outputs": [
    {
     "name": "stdout",
     "output_type": "stream",
     "text": [
      "Current directory:\n",
      "------------------\n",
      "show_package_versions.ipynb  start.sh\n",
      "\n",
      "Parent directory:\n",
      "-----------------\n",
      "Dockerfile  create_jupyter_container.sh   start_notebooks.sh\n",
      "LICENSE     create_openfoam_container.sh  start_openfoam.sh\n",
      "README.md   notebooks\t\t\t  test_cases\n"
     ]
    }
   ],
   "source": [
    "print(\"Current directory:\")\n",
    "print(\"-\"*len(\"Current directory:\"))\n",
    "!ls\n",
    "print()\n",
    "print(\"Parent directory:\")\n",
    "print(\"-\"*len(\"Parent directory:\"))\n",
    "!ls ../"
   ]
  },
  {
   "cell_type": "code",
   "execution_count": null,
   "metadata": {},
   "outputs": [],
   "source": []
  }
 ],
 "metadata": {
  "kernelspec": {
   "display_name": "Python 3",
   "language": "python",
   "name": "python3"
  },
  "language_info": {
   "codemirror_mode": {
    "name": "ipython",
    "version": 3
   },
   "file_extension": ".py",
   "mimetype": "text/x-python",
   "name": "python",
   "nbconvert_exporter": "python",
   "pygments_lexer": "ipython3",
   "version": "3.8.2"
  }
 },
 "nbformat": 4,
 "nbformat_minor": 4
}
