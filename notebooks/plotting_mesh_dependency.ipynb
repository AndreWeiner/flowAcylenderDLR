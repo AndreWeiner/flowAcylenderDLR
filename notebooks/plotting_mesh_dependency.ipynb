{
 "cells": [
  {
   "cell_type": "code",
   "execution_count": 4,
   "metadata": {},
   "outputs": [],
   "source": [
    "import numpy as np\n",
    "import matplotlib.pyplot as plt"
   ]
  },
  {
   "cell_type": "markdown",
   "metadata": {},
   "source": [
    "### Import data\n",
    "copy the data file from postProcessing/forces/0/coefficient.data to ./data folder"
   ]
  },
  {
   "cell_type": "code",
   "execution_count": 6,
   "metadata": {},
   "outputs": [],
   "source": [
    "filename = \"plot_data/coefficient.dat\""
   ]
  },
  {
   "cell_type": "markdown",
   "metadata": {},
   "source": [
    "#### Loading only Cd and Cl"
   ]
  },
  {
   "cell_type": "code",
   "execution_count": 7,
   "metadata": {},
   "outputs": [],
   "source": [
    "data = np.loadtxt(filename, unpack=True, usecols=[0, 1, 3])\n",
    "data = data[:, 6000:]"
   ]
  },
  {
   "cell_type": "code",
   "execution_count": 8,
   "metadata": {},
   "outputs": [],
   "source": [
    "Data = np.column_stack((data[0], data[1], data[2]))\n",
    "np.savetxt('plot_data/case/filtered_data.dat', Data, fmt='%.6e', delimiter='   ', newline='\\n', header='Timestep     Cd             Cl\\n', footer='')"
   ]
  },
  {
   "cell_type": "code",
   "execution_count": 9,
   "metadata": {},
   "outputs": [],
   "source": [
    "mean_cd = np.mean(data[1])\n",
    "std_cd = np.std(data[1])\n",
    "\n",
    "mean_cl = np.mean(data[2])\n",
    "std_cl = np.std(data[2])"
   ]
  },
  {
   "cell_type": "markdown",
   "metadata": {},
   "source": [
    "#### Writing mean and std values in text file \n",
    "File will be saved in /plots dir"
   ]
  },
  {
   "cell_type": "code",
   "execution_count": 10,
   "metadata": {},
   "outputs": [],
   "source": [
    "text_file = open(\"plot_data/case/mean_std.txt\", \"w\")\n",
    "text_file.write(\"Mean Value(Cd)         : %s\\n\" % mean_cd)\n",
    "text_file.write(\"Standard deviation(Cd) : %s\" % std_cd)\n",
    "text_file.write(\"\\n\\n\")\n",
    "text_file.write(\"Mean Value(Cl)         : %s\\n\" % mean_cl)\n",
    "text_file.write(\"Standard deviation(Cl) : %s\" % std_cl)\n",
    "text_file.close()"
   ]
  },
  {
   "cell_type": "markdown",
   "metadata": {},
   "source": [
    "#### Ploting values of Cd and Cl after 3s \n",
    "File will be saved in /plots dir"
   ]
  },
  {
   "cell_type": "code",
   "execution_count": 11,
   "metadata": {},
   "outputs": [],
   "source": [
    "plt.plot(data[0], data[1], linewidth=2)\n",
    "plt.xlabel('time(s)')\n",
    "plt.ylabel('Cd')\n",
    "plt.title('Values of Cd after 3 s')\n",
    "plt.savefig('plot_data/case/Cd.png')\n",
    "plt.close()\n",
    "plt.plot(data[0], data[2], linewidth=2)\n",
    "plt.xlabel('time(s)')\n",
    "plt.ylabel('Cd')\n",
    "plt.title('Values of Cd after 3 s')\n",
    "plt.savefig('plot_data/case/Cl.png')\n",
    "plt.close()"
   ]
  },
  {
   "cell_type": "markdown",
   "metadata": {},
   "source": [
    "### Ploting statastics, mean and standard deviation of Cd and Cl"
   ]
  },
  {
   "cell_type": "code",
   "execution_count": 13,
   "metadata": {},
   "outputs": [],
   "source": [
    "m_data = np.genfromtxt('mesh_study/mesh_study.csv', delimiter=',')"
   ]
  },
  {
   "cell_type": "code",
   "execution_count": 14,
   "metadata": {},
   "outputs": [],
   "source": [
    "plt.plot(m_data[:, 1], m_data[:, 2], linewidth=2)\n",
    "plt.xlabel('mesh size in X direction')\n",
    "plt.ylabel('mean value of Cd')\n",
    "plt.title('Mesh size and Mean value of Cd after 3s')\n",
    "plt.savefig('mesh_study/mesh_mean_cd.png')\n",
    "plt.close()\n",
    "\n",
    "plt.plot(m_data[:, 1], m_data[:, 3], linewidth=2)\n",
    "plt.xlabel('mesh size in X direction')\n",
    "plt.ylabel('standard deviation of Cd')\n",
    "plt.title('Mesh size and standard deviation of Cd after 3s')\n",
    "plt.savefig('mesh_study/mesh_std_cd.png')\n",
    "plt.close()\n",
    "\n",
    "plt.plot(m_data[:, 1], m_data[:, 4], linewidth=2)\n",
    "plt.xlabel('mesh size in X direction')\n",
    "plt.ylabel('mean value of Cl')\n",
    "plt.title('Mesh size and Mean value of Cl after 3s')\n",
    "plt.savefig('mesh_study/mesh_mean_cl.png')\n",
    "plt.close()\n",
    "\n",
    "plt.plot(m_data[:, 1], m_data[:, 5], linewidth=2)\n",
    "plt.xlabel('mesh size in X direction')\n",
    "plt.ylabel('standard deviation of Cl')\n",
    "plt.title('Mesh size and standard deviation of Cl after 3s')\n",
    "plt.savefig('mesh_study/mesh_std_cl.png')\n",
    "plt.close()"
   ]
  },
  {
   "cell_type": "code",
   "execution_count": null,
   "metadata": {},
   "outputs": [],
   "source": []
  }
 ],
 "metadata": {
  "kernelspec": {
   "display_name": "Python 3",
   "language": "python",
   "name": "python3"
  },
  "language_info": {
   "codemirror_mode": {
    "name": "ipython",
    "version": 3
   },
   "file_extension": ".py",
   "mimetype": "text/x-python",
   "name": "python",
   "nbconvert_exporter": "python",
   "pygments_lexer": "ipython3",
   "version": "3.8.2"
  }
 },
 "nbformat": 4,
 "nbformat_minor": 4
}
